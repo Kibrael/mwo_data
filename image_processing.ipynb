{
 "cells": [
  {
   "cell_type": "code",
   "execution_count": 248,
   "metadata": {},
   "outputs": [],
   "source": [
    "import cv2\n",
    "import os\n",
    "import pandas as pd\n",
    "from PIL import Image, ImageFilter\n",
    "import pytesseract"
   ]
  },
  {
   "cell_type": "code",
   "execution_count": null,
   "metadata": {},
   "outputs": [],
   "source": [
    "\n",
    "img = Image.open(\"data/images/20171118200710_1.jpg\")\n",
    "img = im.filter( ImageFilter.SHARPEN )\n",
    "w, h = img.size\n",
    "p1_area = (570, 205, w-300, h-820)\n",
    "p2_area = (570, 230, w-300, h-795)\n",
    "p3_area = (570, 253, w-300, h-770)\n",
    "p4_area = (570, 275, w-300, h-750)\n",
    "p5_area = (570, 303, w-300, h-725)\n",
    "p6_area = (570, 328, w-300, h-700)\n",
    "p7_area = (570, 350, w-300, h-678)\n",
    "p8_area = (570, 373, w-300, h-655)\n",
    "p9_area = (570, 403, w-300, h-628)\n",
    "p10_area = (570, 425, w-300, h-605)\n",
    "p11_area = (570, 448, w-300, h-580)\n",
    "p12_area = (570, 470, w-1065, h-560)\n",
    "\n",
    "#get other 12 players\n",
    "#parse victory/defeat\n",
    "#top team is always the winner\n",
    "cropped_img = img.crop(p12_area)\n",
    "cropped_img.show()"
   ]
  },
  {
   "cell_type": "code",
   "execution_count": 251,
   "metadata": {},
   "outputs": [],
   "source": [
    "#area rectangles for each player in score sheet\n",
    "player_areas = [(570, 208, w-300, h-820), (570, 230, w-300, h-795), (570, 253, w-300, h-770),\n",
    "                (570, 275, w-300, h-750), (570, 303, w-300, h-725), (570, 328, w-300, h-700),\n",
    "                (570, 350, w-300, h-678), (570, 373, w-300, h-655), (570, 403, w-300, h-628), \n",
    "                (570, 425, w-300, h-605), (570, 448, w-300, h-580), (570, 470, w-300, h-560)]\n",
    "def split_image(img=None, area=None, sharpen=True):\n",
    "    \"\"\"Takes an MWO team score image and splits it into 12 rectanges, 1 for each player's stats.\"\"\"\n",
    "    if img is not None and area is not None:\n",
    "        #load image\n",
    "        img = Image.open(img)\n",
    "        if sharpen:\n",
    "            #sharpen image\n",
    "            img = im.filter(ImageFilter.SHARPEN)\n",
    "        image_slices = []\n",
    "        #crop image\n",
    "        image_slice = img.crop(area)\n",
    "        w, h = image_slice.size\n",
    "        #get clan    x_start, y_start, x_end,   y_end\n",
    "        clan_area = (0, 0, w-765, h)\n",
    "        image_slices.append(image_slice.crop(clan_area))\n",
    "        #get player name\n",
    "        name_area = (50, 0, w-550, h)\n",
    "        image_slices.append(image_slice.crop(name_area))\n",
    "        #get mech\n",
    "        mech_area = (265, 0, w-465, h)\n",
    "        image_slices.append(image_slice.crop(mech_area))\n",
    "        #get status\n",
    "        status_area = (390, 0, w-350, h)\n",
    "        image_slices.append(image_slice.crop(status_area))\n",
    "        #get match score\n",
    "        score_area = (500, 0, w-250, h)\n",
    "        image_slices.append(image_slice.crop(score_area))\n",
    "        #get kills\n",
    "        kills_area = (590, 0, w-175, h)\n",
    "        image_slices.append(image_slice.crop(kills_area))\n",
    "        #get assists\n",
    "        assist_area = (650, 0, w-120, h)\n",
    "        image_slices.append(image_slice.crop(assist_area))\n",
    "        #get damage\n",
    "        dmg_area = (710, 0, w-40, h)\n",
    "        image_slices.append(image_slice.crop(dmg_area))\n",
    "        #get ping\n",
    "        ping_area = (760, 0, w, h)\n",
    "        image_slices.append(image_slice.crop(ping_area))\n",
    "    else:\n",
    "        print(\"No image or area selected\")\n",
    "    return image_slices"
   ]
  },
  {
   "cell_type": "code",
   "execution_count": 341,
   "metadata": {},
   "outputs": [],
   "source": [
    "def pre_process(img=None, thresh=True, blur=True):\n",
    "    if img:\n",
    "        # load the example image and convert it to grayscale\n",
    "        image = cv2.imread(img)\n",
    "        gray = cv2.cvtColor(image, cv2.COLOR_BGR2GRAY)\n",
    "\n",
    "        if thresh:\n",
    "            blur = False\n",
    "            #thresholding requires grayscale image\n",
    "            #\"THRESH_TOZERO\", cv2.THRESH_TOZERO\n",
    "            #gray = cv2.threshold(gray, 0, 255,\n",
    "            #    cv2.THRESH_BINARY | cv2.THRESH_OTSU)[1]\n",
    "            thresh_val, gray = cv2.threshold(gray, 0, 255, cv2.THRESH_TOZERO)\n",
    "        # make a check to see if median blurring should be done to remove noise\n",
    "        elif blur:\n",
    "            gray = cv2.medianBlur(gray, 3)\n",
    "\n",
    "        # write the grayscale image to disk as a temporary file so we can apply OCR to it\n",
    "        cv2.imwrite(\"data/images_processed/temp.png\", gray)\n",
    "    else:\n",
    "        print(\"Image must be specified\")"
   ]
  },
  {
   "cell_type": "code",
   "execution_count": 342,
   "metadata": {},
   "outputs": [],
   "source": [
    "def apply_ocr(img=None, num_only=True):\n",
    "    # load the image as a PIL/Pillow image, apply OCR, and then delete the temporary file\n",
    "    if img:\n",
    "        image=Image.open(img)\n",
    "        image.show()\n",
    "        if num_only:\n",
    "            text = pytesseract.image_to_string(Image.open(img), config='outputbase digits')\n",
    "        else:\n",
    "            text = pytesseract.image_to_string(Image.open(img)) \n",
    "        \n",
    "        #os.remove(img)\n",
    "    else:\n",
    "        print(\"No image file specified.\")\n",
    "    return text"
   ]
  },
  {
   "cell_type": "code",
   "execution_count": 343,
   "metadata": {},
   "outputs": [],
   "source": [
    "\n",
    "player_imgs = split_image(\"data/images/20171118200710_1.jpg\", area=player_areas[0])\n",
    "index = 0\n",
    "for img in player_imgs:\n",
    "    img.save('data/images_processed/temp_image_{}.jpg'.format(index), 'JPEG')\n",
    "    index +=1"
   ]
  },
  {
   "cell_type": "code",
   "execution_count": 344,
   "metadata": {},
   "outputs": [
    {
     "data": {
      "text/plain": [
       "''"
      ]
     },
     "execution_count": 344,
     "metadata": {},
     "output_type": "execute_result"
    }
   ],
   "source": [
    "pre_process(img=\"data/images_processed/temp_image_5.jpg\") #takes a single image\n",
    "text = apply_ocr(img=\"data/images_processed/temp.png\") #follows pre_process using the temp image written\n",
    "text"
   ]
  },
  {
   "cell_type": "code",
   "execution_count": 299,
   "metadata": {},
   "outputs": [],
   "source": [
    "#convert text to var\n",
    "#get aggregates by match\n"
   ]
  },
  {
   "cell_type": "code",
   "execution_count": 336,
   "metadata": {},
   "outputs": [
    {
     "data": {
      "image/png": "[encoded data removed]",
      "text/plain": [
       "<Figure size 432x288 with 1 Axes>"
      ]
     },
     "metadata": {},
     "output_type": "display_data"
    },
    {
     "data": {
      "image/png": "[encoded data removed]",
      "text/plain": [
       "<Figure size 432x288 with 1 Axes>"
      ]
     },
     "metadata": {},
     "output_type": "display_data"
    },
    {
     "data": {
      "image/png": "[encoded data removed]",
      "text/plain": [
       "<Figure size 432x288 with 1 Axes>"
      ]
     },
     "metadata": {},
     "output_type": "display_data"
    },
    {
     "data": {
      "image/png": "[encoded data removed]",
      "text/plain": [
       "<Figure size 432x288 with 1 Axes>"
      ]
     },
     "metadata": {},
     "output_type": "display_data"
    },
    {
     "data": {
      "image/png": "[encoded data removed]",
      "text/plain": [
       "<Figure size 432x288 with 1 Axes>"
      ]
     },
     "metadata": {},
     "output_type": "display_data"
    }
   ],
   "source": [
    "%matplotlib inline\n",
    "from matplotlib import pyplot as plt\n",
    "image = cv2.imread(\"data/images_processed/temp_image_5.jpg\")\n",
    "gray = cv2.cvtColor(image, cv2.COLOR_BGR2GRAY)\n",
    "methods = [\n",
    "\t(\"THRESH_BINARY\", cv2.THRESH_BINARY),\n",
    "\t(\"THRESH_BINARY_INV\", cv2.THRESH_BINARY_INV),\n",
    "\t(\"THRESH_TRUNC\", cv2.THRESH_TRUNC),\n",
    "\t(\"THRESH_TOZERO\", cv2.THRESH_TOZERO),\n",
    "\t(\"THRESH_TOZERO_INV\", cv2.THRESH_TOZERO_INV)]\n",
    " \n",
    "# loop over the threshold methods\n",
    "for (threshName, threshMethod) in methods:\n",
    "    # threshold the image and show it\n",
    "    (T, thresh) = cv2.threshold(gray, 0, 255, threshMethod)\n",
    "    cv2.imshow(threshName, thresh)\n",
    "    plt.imshow(thresh)\n",
    "    plt.show()"
   ]
  },
  {
   "cell_type": "code",
   "execution_count": 345,
   "metadata": {},
   "outputs": [
    {
     "ename": "SyntaxError",
     "evalue": "invalid syntax (<ipython-input-345-e1145efd69ba>, line 1)",
     "output_type": "error",
     "traceback": [
      "\u001b[0;36m  File \u001b[0;32m\"<ipython-input-345-e1145efd69ba>\"\u001b[0;36m, line \u001b[0;32m1\u001b[0m\n\u001b[0;31m    $ python ocr.py --image images/example_01.png\u001b[0m\n\u001b[0m    ^\u001b[0m\n\u001b[0;31mSyntaxError\u001b[0m\u001b[0;31m:\u001b[0m invalid syntax\n"
     ]
    }
   ],
   "source": [
    "$ python ocr.py --image images/example_01.png"
   ]
  },
  {
   "cell_type": "code",
   "execution_count": null,
   "metadata": {},
   "outputs": [],
   "source": []
  }
 ],
 "metadata": {
  "kernelspec": {
   "display_name": "Python 3",
   "language": "python",
   "name": "python3"
  },
  "language_info": {
   "codemirror_mode": {
    "name": "ipython",
    "version": 3
   },
   "file_extension": ".py",
   "mimetype": "text/x-python",
   "name": "python",
   "nbconvert_exporter": "python",
   "pygments_lexer": "ipython3",
   "version": "3.7.0"
  }
 },
 "nbformat": 4,
 "nbformat_minor": 2
}
