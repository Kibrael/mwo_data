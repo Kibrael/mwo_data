{
 "cells": [
  {
   "cell_type": "code",
   "execution_count": 1,
   "metadata": {},
   "outputs": [],
   "source": [
    "from oauth2client.client import AccessTokenCredentials\n",
    "from oauth2client.client import OAuth2WebServerFlow\n",
    "from oauth2client.client import flow_from_clientsecrets\n",
    "from oauth2client import tools\n",
    "from oauth2client.file import Storage\n",
    "import os\n",
    "import pandas as pd\n",
    "import requests\n",
    "import sys"
   ]
  },
  {
   "cell_type": "code",
   "execution_count": 3,
   "metadata": {},
   "outputs": [
    {
     "ename": "SystemExit",
     "evalue": "The client secrets were invalid: \nInvalid file format. See https://developers.google.com/api-client-library/python/guide/aaa_client_secrets Expected a JSON object with a single property for a \"web\" or \"installed\" application\nbad client secrets",
     "output_type": "error",
     "traceback": [
      "An exception has occurred, use %tb to see the full traceback.\n",
      "\u001b[0;31mSystemExit\u001b[0m\u001b[0;31m:\u001b[0m The client secrets were invalid: \nInvalid file format. See https://developers.google.com/api-client-library/python/guide/aaa_client_secrets Expected a JSON object with a single property for a \"web\" or \"installed\" application\nbad client secrets\n"
     ]
    },
    {
     "name": "stderr",
     "output_type": "stream",
     "text": [
      "/Users/roellk/homebrew/lib/python3.7/site-packages/IPython/core/interactiveshell.py:2969: UserWarning: To exit: use 'exit', 'quit', or Ctrl-D.\n",
      "  warn(\"To exit: use 'exit', 'quit', or Ctrl-D.\", stacklevel=1)\n"
     ]
    }
   ],
   "source": [
    "#Authorize gSheet data usage by HH update project python code\n",
    "flags = tools.argparser.parse_args(args=[]) #used to remove CLI flags\n",
    "CLIENT_SECRETS_FILE = \"../MWO screenshots-128da342c34c.json\"\n",
    "CLIENT_SCOPE = 'https://spreadsheets.google.com/feeds' #set scope of access\n",
    "MISSING_CLIENT_SECRETS_MESSAGE = \"bad client secrets\"\n",
    "\n",
    "flow = flow_from_clientsecrets(CLIENT_SECRETS_FILE,\n",
    "                                   scope=CLIENT_SCOPE,\n",
    "                                   message=MISSING_CLIENT_SECRETS_MESSAGE)\n",
    "\n",
    "storage = Storage('mycredentials.data')\n",
    "credentials = tools.run_flow(flow, storage, flags)\n",
    "\n",
    "data = {\n",
    "    'refresh_token' : credentials.refresh_token,\n",
    "    'client_id' : credentials.client_id,\n",
    "    'client_secret' : credentials.client_secret,\n",
    "    'grant_type' : 'refresh_token',\n",
    "}\n",
    "r = requests.post('https://accounts.google.com/o/oauth2/token', data = data)\n",
    "print(r)\n",
    "try :\n",
    "    credentials.access_token = ast.literal_eval(r.text)['access_token']\n",
    "    print(\"all the things have worked\")\n",
    "except Exception: \n",
    "    print(\"all the things have failed\")"
   ]
  },
  {
   "cell_type": "code",
   "execution_count": 4,
   "metadata": {},
   "outputs": [],
   "source": [
    "vision_url = \"https://vision.googleapis.com/v1/images:annotate?key=YOUR_API_KEY\"\n"
   ]
  },
  {
   "cell_type": "code",
   "execution_count": 5,
   "metadata": {},
   "outputs": [
    {
     "name": "stdout",
     "output_type": "stream",
     "text": [
      "MWO screenshots-128da342c34c.json\r\n",
      "client_secret_515667328518-qdai57akqtniq190d5d0grch99tvgfhr.apps.googleusercontent.com.json\r\n",
      "\u001b[34mmwo_data\u001b[m\u001b[m/\r\n"
     ]
    }
   ],
   "source": [
    "ls ../\n"
   ]
  },
  {
   "cell_type": "code",
   "execution_count": null,
   "metadata": {},
   "outputs": [],
   "source": []
  }
 ],
 "metadata": {
  "kernelspec": {
   "display_name": "Python 3",
   "language": "python",
   "name": "python3"
  },
  "language_info": {
   "codemirror_mode": {
    "name": "ipython",
    "version": 3
   },
   "file_extension": ".py",
   "mimetype": "text/x-python",
   "name": "python",
   "nbconvert_exporter": "python",
   "pygments_lexer": "ipython3",
   "version": "3.7.0"
  }
 },
 "nbformat": 4,
 "nbformat_minor": 2
}
