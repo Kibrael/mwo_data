{
 "cells": [
  {
   "cell_type": "code",
   "execution_count": 1,
   "metadata": {},
   "outputs": [],
   "source": [
    "import pandas as pd\n",
    "from PIL import Image, ImageFilter"
   ]
  },
  {
   "cell_type": "code",
   "execution_count": 2,
   "metadata": {},
   "outputs": [],
   "source": [
    "\n",
    "#Read image\n",
    "im = Image.open('data/images/20171118200710_1.jpg')\n",
    "#Display image\n",
    "im.show()\n",
    "\n",
    "#Applying a filter to the image\n",
    "im_sharp = im.filter( ImageFilter.SHARPEN )\n",
    "#Saving the filtered image to a new file\n",
    "im_sharp.save( 'image_sharpened.jpg', 'JPEG' )\n",
    "\n",
    "#Splitting the image into its respective bands, i.e. Red, Green,\n",
    "#and Blue for RGB\n",
    "r,g,b = im_sharp.split()\n",
    "\n",
    "#Viewing EXIF data embedded in image\n",
    "#exif_data = im._getexif()\n",
    "#exif_data"
   ]
  },
  {
   "cell_type": "code",
   "execution_count": 3,
   "metadata": {},
   "outputs": [
    {
     "ename": "NameError",
     "evalue": "name 'yourImage' is not defined",
     "output_type": "error",
     "traceback": [
      "\u001b[0;31m---------------------------------------------------------------------------\u001b[0m",
      "\u001b[0;31mNameError\u001b[0m                                 Traceback (most recent call last)",
      "\u001b[0;32m<ipython-input-3-b00a2a364c49>\u001b[0m in \u001b[0;36m<module>\u001b[0;34m()\u001b[0m\n\u001b[0;32m----> 1\u001b[0;31m \u001b[0mw\u001b[0m\u001b[0;34m,\u001b[0m \u001b[0mh\u001b[0m \u001b[0;34m=\u001b[0m \u001b[0myourImage\u001b[0m\u001b[0;34m.\u001b[0m\u001b[0msize\u001b[0m\u001b[0;34m\u001b[0m\u001b[0m\n\u001b[0m\u001b[1;32m      2\u001b[0m \u001b[0myourImage\u001b[0m\u001b[0;34m.\u001b[0m\u001b[0mcrop\u001b[0m\u001b[0;34m(\u001b[0m\u001b[0;34m(\u001b[0m\u001b[0;36m0\u001b[0m\u001b[0;34m,\u001b[0m \u001b[0;36m30\u001b[0m\u001b[0;34m,\u001b[0m \u001b[0mw\u001b[0m\u001b[0;34m,\u001b[0m \u001b[0mh\u001b[0m\u001b[0;34m-\u001b[0m\u001b[0;36m30\u001b[0m\u001b[0;34m)\u001b[0m\u001b[0;34m)\u001b[0m\u001b[0;34m.\u001b[0m\u001b[0msave\u001b[0m\u001b[0;34m(\u001b[0m\u001b[0;34m...\u001b[0m\u001b[0;34m)\u001b[0m\u001b[0;34m\u001b[0m\u001b[0m\n",
      "\u001b[0;31mNameError\u001b[0m: name 'yourImage' is not defined"
     ]
    }
   ],
   "source": [
    "w, h = yourImage.size\n",
    "yourImage.crop((0, 30, w, h-30)).save(...)"
   ]
  },
  {
   "cell_type": "code",
   "execution_count": 103,
   "metadata": {},
   "outputs": [],
   "source": [
    "\n",
    "img = Image.open(\"data/images/20171118200710_1.jpg\")\n",
    "img = im.filter( ImageFilter.SHARPEN )\n",
    "w, h = img.size\n",
    "p1_area = (570, 205, w-300, h-820)\n",
    "p2_area = (570, 230, w-300, h-795)\n",
    "p3_area = (570, 253, w-300, h-770)\n",
    "p4_area = (570, 275, w-300, h-750)\n",
    "p5_area = (570, 303, w-300, h-725)\n",
    "p6_area = (570, 328, w-300, h-700)\n",
    "p7_area = (570, 350, w-300, h-678)\n",
    "p8_area = (570, 373, w-300, h-655)\n",
    "p9_area = (570, 403, w-300, h-628)\n",
    "p10_area = (570, 425, w-300, h-605)\n",
    "p11_area = (570, 448, w-300, h-580)\n",
    "p12_area = (570, 470, w-1065, h-560)\n",
    "\n",
    "#get other 12 players\n",
    "cropped_img = img.crop(p12_area)\n",
    "cropped_img.show()"
   ]
  },
  {
   "cell_type": "code",
   "execution_count": 211,
   "metadata": {},
   "outputs": [],
   "source": [
    "#area rectangles for each player in score sheet\n",
    "player_areas = [(570, 205, w-300, h-820), (570, 230, w-300, h-795), (570, 253, w-300, h-770),\n",
    "                (570, 275, w-300, h-750), (570, 303, w-300, h-725), (570, 328, w-300, h-700),\n",
    "                (570, 350, w-300, h-678), (570, 373, w-300, h-655), (570, 403, w-300, h-628), \n",
    "                (570, 425, w-300, h-605), (570, 448, w-300, h-580), (570, 470, w-300, h-560)]\n",
    "def split_image(img=None, area=None, sharpen=True):\n",
    "    \"\"\"Takes an MWO team score image and splits it into 12 rectanges, 1 for each player's stats.\"\"\"\n",
    "    if img is not None and area is not None:\n",
    "        #load image\n",
    "        img = Image.open(img)\n",
    "        if sharpen:\n",
    "            #sharpen image\n",
    "            img = im.filter(ImageFilter.SHARPEN)\n",
    "        #crop image\n",
    "        image_slice = img.crop(area)\n",
    "        w, h = image_slice.size\n",
    "        #get clan    x_start, y_start, x_end,   y_end\n",
    "        clan_area = (0, 0, w-765, h)\n",
    "        clan_img = image_slice.crop(clan_area)\n",
    "        #get player name\n",
    "        name_area = (50, 0, w-550, h)\n",
    "        name_img = image_slice.crop(name_area)\n",
    "        #get mech\n",
    "        mech_area = (265, 0, w-465, h)\n",
    "        mech_img = image_slice.crop(mech_area)\n",
    "        #get status\n",
    "        status_area = (390, 0, w-350, h)\n",
    "        status_img = image_slice.crop(status_area)\n",
    "        #get match score\n",
    "        score_area = (500, 0, w-250, h)\n",
    "        score_img = image_slice.crop(score_area)\n",
    "        #get kills\n",
    "        kills_area = (590, 0, w-175, h)\n",
    "        kills_img = image_slice.crop(kills_area)\n",
    "        #get assists\n",
    "        assist_area = (650, 0, w-120, h)\n",
    "        assist_img = image_slice.crop(assist_area)\n",
    "        #get damage\n",
    "        dmg_area = (710, 0, w-40, h)\n",
    "        dmg_img = image_slice.crop(dmg_area)\n",
    "        #get ping\n",
    "        ping_area = (770, 0, w, h)\n",
    "        ping_img = image_slice.crop(ping_area)\n",
    "        ping_img.show()\n",
    "        image_slices = [image_slice, clan_img, name_img]\n",
    "    else:\n",
    "        print(\"No image or area selected\")\n",
    "    return image_slices"
   ]
  },
  {
   "cell_type": "code",
   "execution_count": 212,
   "metadata": {},
   "outputs": [],
   "source": [
    "player_imgs = split_image(\"data/images/20171118200710_1.jpg\", area=player_areas[0])\n",
    "#player_imgs[2].show()"
   ]
  },
  {
   "cell_type": "code",
   "execution_count": 181,
   "metadata": {},
   "outputs": [],
   "source": [
    "for img in player_imgs:\n",
    "    img.show()"
   ]
  },
  {
   "cell_type": "code",
   "execution_count": null,
   "metadata": {},
   "outputs": [],
   "source": []
  }
 ],
 "metadata": {
  "kernelspec": {
   "display_name": "Python 3",
   "language": "python",
   "name": "python3"
  },
  "language_info": {
   "codemirror_mode": {
    "name": "ipython",
    "version": 3
   },
   "file_extension": ".py",
   "mimetype": "text/x-python",
   "name": "python",
   "nbconvert_exporter": "python",
   "pygments_lexer": "ipython3",
   "version": "3.7.0"
  }
 },
 "nbformat": 4,
 "nbformat_minor": 2
}
