{
 "cells": [
  {
   "cell_type": "code",
   "execution_count": 1,
   "metadata": {},
   "outputs": [],
   "source": [
    "import pandas as pd\n",
    "from PIL import Image, ImageFilter"
   ]
  },
  {
   "cell_type": "code",
   "execution_count": 2,
   "metadata": {},
   "outputs": [],
   "source": [
    "\n",
    "#Read image\n",
    "im = Image.open('data/images/20171118200710_1.jpg')\n",
    "#Display image\n",
    "im.show()\n",
    "\n",
    "#Applying a filter to the image\n",
    "im_sharp = im.filter( ImageFilter.SHARPEN )\n",
    "#Saving the filtered image to a new file\n",
    "im_sharp.save( 'image_sharpened.jpg', 'JPEG' )\n",
    "\n",
    "#Splitting the image into its respective bands, i.e. Red, Green,\n",
    "#and Blue for RGB\n",
    "r,g,b = im_sharp.split()\n",
    "\n",
    "#Viewing EXIF data embedded in image\n",
    "#exif_data = im._getexif()\n",
    "#exif_data"
   ]
  },
  {
   "cell_type": "code",
   "execution_count": 3,
   "metadata": {},
   "outputs": [
    {
     "ename": "NameError",
     "evalue": "name 'yourImage' is not defined",
     "output_type": "error",
     "traceback": [
      "\u001b[0;31m---------------------------------------------------------------------------\u001b[0m",
      "\u001b[0;31mNameError\u001b[0m                                 Traceback (most recent call last)",
      "\u001b[0;32m<ipython-input-3-b00a2a364c49>\u001b[0m in \u001b[0;36m<module>\u001b[0;34m()\u001b[0m\n\u001b[0;32m----> 1\u001b[0;31m \u001b[0mw\u001b[0m\u001b[0;34m,\u001b[0m \u001b[0mh\u001b[0m \u001b[0;34m=\u001b[0m \u001b[0myourImage\u001b[0m\u001b[0;34m.\u001b[0m\u001b[0msize\u001b[0m\u001b[0;34m\u001b[0m\u001b[0m\n\u001b[0m\u001b[1;32m      2\u001b[0m \u001b[0myourImage\u001b[0m\u001b[0;34m.\u001b[0m\u001b[0mcrop\u001b[0m\u001b[0;34m(\u001b[0m\u001b[0;34m(\u001b[0m\u001b[0;36m0\u001b[0m\u001b[0;34m,\u001b[0m \u001b[0;36m30\u001b[0m\u001b[0;34m,\u001b[0m \u001b[0mw\u001b[0m\u001b[0;34m,\u001b[0m \u001b[0mh\u001b[0m\u001b[0;34m-\u001b[0m\u001b[0;36m30\u001b[0m\u001b[0;34m)\u001b[0m\u001b[0;34m)\u001b[0m\u001b[0;34m.\u001b[0m\u001b[0msave\u001b[0m\u001b[0;34m(\u001b[0m\u001b[0;34m...\u001b[0m\u001b[0;34m)\u001b[0m\u001b[0;34m\u001b[0m\u001b[0m\n",
      "\u001b[0;31mNameError\u001b[0m: name 'yourImage' is not defined"
     ]
    }
   ],
   "source": [
    "w, h = yourImage.size\n",
    "yourImage.crop((0, 30, w, h-30)).save(...)"
   ]
  },
  {
   "cell_type": "code",
   "execution_count": 68,
   "metadata": {},
   "outputs": [],
   "source": [
    "\n",
    "img = Image.open(\"data/images/20171118200710_1.jpg\")\n",
    "img = im.filter( ImageFilter.SHARPEN )\n",
    "w, h = img.size\n",
    "p1_area = (570, 205, w-300, h-820)\n",
    "p2_area = (570, 230, w-300, h-795)\n",
    "p3_area = (570, 253, w-300, h-770)\n",
    "p4_area = (570, 275, w-300, h-750)\n",
    "p5_area = (570, 303, w-300, h-725)\n",
    "p6_area = (570, 328, w-300, h-700)\n",
    "p7_area = (570, 350, w-300, h-678)\n",
    "p8_area = (570, 373, w-300, h-655)\n",
    "p9_area = (570, 403, w-300, h-628)\n",
    "p10_area = (570, 425, w-300, h-605)\n",
    "p11_area = (570, 448, w-300, h-580)\n",
    "p12_area = (570, 470, w-300, h-560)\n",
    "cropped_img = img.crop(p12_area)\n",
    "cropped_img.show()"
   ]
  },
  {
   "cell_type": "code",
   "execution_count": 72,
   "metadata": {},
   "outputs": [],
   "source": [
    "def split_players(img=None, sharpen=True, save_path=\"images_processed/\"):\n",
    "    \"\"\"Takes an MWO team score image and splits it into 12 rectanges, 1 for each player's stats.\"\"\"\n",
    "    if img is not None:\n",
    "        #load image\n",
    "        img = Image.open(img)\n",
    "        if sharpen:\n",
    "            #sharpen image\n",
    "            img = im.filter(ImageFilter.SHARPEN)\n",
    "        #set areas for player rectangles\n",
    "        p1_area = (570, 205, w-300, h-820)\n",
    "        p2_area = (570, 230, w-300, h-795)\n",
    "        p3_area = (570, 253, w-300, h-770)\n",
    "        p4_area = (570, 275, w-300, h-750)\n",
    "        p5_area = (570, 303, w-300, h-725)\n",
    "        p6_area = (570, 328, w-300, h-700)\n",
    "        p7_area = (570, 350, w-300, h-678)\n",
    "        p8_area = (570, 373, w-300, h-655)\n",
    "        p9_area = (570, 403, w-300, h-628)\n",
    "        p10_area = (570, 425, w-300, h-605)\n",
    "        p11_area = (570, 448, w-300, h-580)\n",
    "        p12_area = (570, 470, w-300, h-560)\n",
    "        #split into player images\n",
    "        p1 = img.crop(p1_area)\n",
    "        p2 = img.crop(p2_area)\n",
    "        p3 = img.crop(p3_area)\n",
    "        p4 = img.crop(p4_area)\n",
    "        p5 = img.crop(p5_area)\n",
    "        p6 = img.crop(p6_area)\n",
    "        p7 = img.crop(p7_area)\n",
    "        p8 = img.crop(p8_area)\n",
    "        p9 = img.crop(p9_area)\n",
    "        p10 = img.crop(p10_area)\n",
    "        p11 = img.crop(p11_area)\n",
    "        p12 = img.crop(p12_area)\n",
    "        player_images = [p1, p2, p3, p4, p5, p6, p7, p8, p9, p10, p11, p12]\n",
    "    #return array of player images\n",
    "    else:\n",
    "        print(\"No image selected\")\n",
    "    return player_images"
   ]
  },
  {
   "cell_type": "code",
   "execution_count": 73,
   "metadata": {},
   "outputs": [],
   "source": [
    "player_imgs = split_players(\"data/images/20171118200710_1.jpg\")"
   ]
  },
  {
   "cell_type": "code",
   "execution_count": 75,
   "metadata": {},
   "outputs": [],
   "source": [
    "for img in player_imgs:\n",
    "    img.show()\n"
   ]
  },
  {
   "cell_type": "code",
   "execution_count": null,
   "metadata": {},
   "outputs": [],
   "source": []
  }
 ],
 "metadata": {
  "kernelspec": {
   "display_name": "Python 3",
   "language": "python",
   "name": "python3"
  },
  "language_info": {
   "codemirror_mode": {
    "name": "ipython",
    "version": 3
   },
   "file_extension": ".py",
   "mimetype": "text/x-python",
   "name": "python",
   "nbconvert_exporter": "python",
   "pygments_lexer": "ipython3",
   "version": "3.7.0"
  }
 },
 "nbformat": 4,
 "nbformat_minor": 2
}
